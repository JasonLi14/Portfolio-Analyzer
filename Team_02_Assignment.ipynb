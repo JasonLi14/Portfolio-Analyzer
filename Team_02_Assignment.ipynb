{
 "cells": [
  {
   "cell_type": "code",
   "execution_count": 43,
   "metadata": {},
   "outputs": [],
   "source": [
    "#These are the libraries you can use.  You may add any libraries directy related to threading if this is a direction\n",
    "#you wish to go (this is not from the course, so it's entirely on you if you wish to use threading).  Any\n",
    "#further libraries you wish to use you must email me, james@uwaterloo.ca, for permission.\n",
    "\n",
    "from IPython.display import display, Math, Latex\n",
    "\n",
    "import pandas as pd\n",
    "import numpy as np\n",
    "import numpy_financial as npf\n",
    "import yfinance as yf\n",
    "import matplotlib.pyplot as plt\n",
    "import random\n",
    "from datetime import datetime"
   ]
  },
  {
   "cell_type": "markdown",
   "metadata": {},
   "source": [
    "## Group Assignment\n",
    "### Team Number: 02\n",
    "### Team Member Names: Jason, Patrick, Gateek\n",
    "### Team Strategy Chosen: Market Beat"
   ]
  },
  {
   "cell_type": "markdown",
   "metadata": {},
   "source": [
    "Disclose any use of AI for this assignment below (detail where and how you used it).  Please see the course outline for acceptable uses of AI.\n"
   ]
  },
  {
   "cell_type": "markdown",
   "metadata": {},
   "source": [
    "### STEP 1: FILTER STOCKS FOR VALID TICKERS BASED ON SET REQUIREMENTS"
   ]
  },
  {
   "cell_type": "code",
   "execution_count": 44,
   "metadata": {},
   "outputs": [
    {
     "name": "stderr",
     "output_type": "stream",
     "text": [
      "$AGN: possibly delisted; no price data found  (period=5d) (Yahoo error = \"No data found, symbol may be delisted\")\n",
      "$CELG: possibly delisted; no price data found  (period=5d) (Yahoo error = \"No data found, symbol may be delisted\")\n",
      "$MON: possibly delisted; no price data found  (period=5d) (Yahoo error = \"No data found, symbol may be delisted\")\n",
      "$RTN: possibly delisted; no price data found  (period=5d) (Yahoo error = \"No data found, symbol may be delisted\")\n"
     ]
    }
   ],
   "source": [
    "# valid_stocks(tickers_file) reads in a given tickers file and produces a list of tickers\n",
    "#                            that are valid according to restrictions such as currency and \n",
    "#                            average monthly volume.\n",
    "# tickers_file: csv file with tickers \n",
    "def valid_stocks(tickers_file):\n",
    "    # Read CSV and get tickers\n",
    "    tickers_df = pd.read_csv(tickers_file)\n",
    "\n",
    "    if tickers_df.empty:\n",
    "        return\n",
    "\n",
    "    tickers_df.columns = (['Tickers'])\n",
    "    tickers_list = tickers_df['Tickers'].tolist()\n",
    "\n",
    "    # Start and end dates\n",
    "    start = '2023-10-01'\n",
    "    end = '2024-09-30'\n",
    "\n",
    "    valid_tickers = []\n",
    "\n",
    "    for ticker in tickers_list:\n",
    "        # Loads in ticker info from yfinance\n",
    "        stock = yf.Ticker(ticker)\n",
    "        info = stock.fast_info \n",
    "\n",
    "        # filter ticker by currency\n",
    "        try:\n",
    "            currency = info['currency']\n",
    "        except:\n",
    "            continue\n",
    "\n",
    "        if currency != 'USD' and currency != 'CAD':\n",
    "            continue\n",
    "\n",
    "        #filter ticker by average monthly volume\n",
    "        try:\n",
    "            hist = stock.history(start=start, end=end, interval='1d')\n",
    "        except:\n",
    "            continue\n",
    "        monthly_volume = pd.DataFrame()\n",
    "        monthly_volume['volume'] = hist['Volume'].resample('ME').sum()\n",
    "        monthly_volume['count'] = hist['Volume'].resample('ME').count()\n",
    "        monthly_volume['avg monthly volume'] = monthly_volume['volume'] / monthly_volume['count']\n",
    "        invalid_trading_days = monthly_volume[monthly_volume['count'] < 18]\n",
    "        invalid_monthly_vol = monthly_volume[monthly_volume['avg monthly volume'] < 100000]\n",
    "\n",
    "        if len(invalid_monthly_vol) > 0 or len(invalid_trading_days) > 0:\n",
    "            continue\n",
    "\n",
    "        valid_tickers.append(ticker)\n",
    "\n",
    "    return valid_tickers\n",
    "\n",
    "valid_tickers = valid_stocks('Tickers_Example.csv')"
   ]
  },
  {
   "cell_type": "markdown",
   "metadata": {},
   "source": [
    "### STEP 2: GET CLOSE PRICES FOR ALL VALID STOCKS"
   ]
  },
  {
   "cell_type": "code",
   "execution_count": 45,
   "metadata": {},
   "outputs": [
    {
     "name": "stderr",
     "output_type": "stream",
     "text": [
      "[*********************100%***********************]  1 of 1 completed\n",
      "[*********************100%***********************]  1 of 1 completed\n",
      "[*********************100%***********************]  1 of 1 completed\n",
      "[*********************100%***********************]  1 of 1 completed\n",
      "[*********************100%***********************]  1 of 1 completed\n",
      "[*********************100%***********************]  1 of 1 completed\n",
      "[*********************100%***********************]  1 of 1 completed\n",
      "[*********************100%***********************]  1 of 1 completed\n",
      "[*********************100%***********************]  1 of 1 completed\n",
      "[*********************100%***********************]  1 of 1 completed\n",
      "[*********************100%***********************]  1 of 1 completed\n",
      "[*********************100%***********************]  1 of 1 completed\n",
      "[*********************100%***********************]  1 of 1 completed\n",
      "[*********************100%***********************]  1 of 1 completed\n",
      "[*********************100%***********************]  1 of 1 completed\n",
      "[*********************100%***********************]  1 of 1 completed\n",
      "[*********************100%***********************]  1 of 1 completed\n",
      "[*********************100%***********************]  1 of 1 completed\n",
      "[*********************100%***********************]  1 of 1 completed\n",
      "[*********************100%***********************]  1 of 1 completed\n",
      "[*********************100%***********************]  1 of 1 completed\n",
      "[*********************100%***********************]  1 of 1 completed\n",
      "[*********************100%***********************]  1 of 1 completed\n",
      "[*********************100%***********************]  1 of 1 completed\n",
      "[*********************100%***********************]  1 of 1 completed\n",
      "[*********************100%***********************]  1 of 1 completed\n",
      "[*********************100%***********************]  1 of 1 completed\n",
      "[*********************100%***********************]  1 of 1 completed\n",
      "[*********************100%***********************]  1 of 1 completed\n",
      "[*********************100%***********************]  1 of 1 completed\n",
      "[*********************100%***********************]  1 of 1 completed\n",
      "[*********************100%***********************]  1 of 1 completed\n",
      "[*********************100%***********************]  1 of 1 completed\n",
      "[*********************100%***********************]  1 of 1 completed\n",
      "[*********************100%***********************]  1 of 1 completed\n",
      "[*********************100%***********************]  1 of 1 completed\n",
      "[*********************100%***********************]  1 of 1 completed\n"
     ]
    }
   ],
   "source": [
    "#get_close_prices(start, end, tickers, cutoff) retrieves all close prices for stocks in tickers from a start date\n",
    "#                                              to an end date. It also takes in a cutoff that excludes all stocks\n",
    "#                                              that do not have close price data before this cutoff date. Function \n",
    "#                                              will return all close prices for the valid stocks in CAD starting from the \n",
    "#                                              date at which the youngest valid stock began tracking close prices.\n",
    "# Example: get_close_prices('2020-01-01', '2024-01-01', ['AAPL', 'NVDA'], '2022-01-01')\n",
    "# Restrictions:\n",
    "#       * start < cutoff < end\n",
    "def get_close_prices(start, end, tickers, cutoff):\n",
    "\n",
    "    multi_data = pd.DataFrame()\n",
    "    df = []\n",
    "    appended_tickers = []\n",
    "\n",
    "    # loop through tickers \n",
    "    for ticker in tickers:\n",
    "        # get all data and put into a series\n",
    "        data = yf.download(ticker, start=start, end=end, interval='1d')\n",
    "        close = data['Close']\n",
    "        close = close.rename(ticker)\n",
    "\n",
    "        # if the first close price is less than cutoff\n",
    "        if close.index.min() < pd.Timestamp(cutoff):\n",
    "            # add stock close prices to df\n",
    "            df.append(close)\n",
    "            appended_tickers.append(ticker)\n",
    "\n",
    "    # create df with all the data\n",
    "    multi_data = pd.concat(df, axis=1)\n",
    "    #drop all values so that there are valid data points for each date in the index\n",
    "    multi_data.dropna(subset=appended_tickers, inplace=True)\n",
    "\n",
    "    # Get CAD->USD exchange rate\n",
    "    cadusd = yf.download('CAD=x', start=start, end=end, interval='1d')\n",
    "\n",
    "    # convert everything to CAD\n",
    "    for ticker in appended_tickers:\n",
    "        stock = yf.Ticker(ticker)\n",
    "        info = stock.fast_info\n",
    "\n",
    "        currency = info['currency']\n",
    "        if currency == 'USD':\n",
    "            multi_data[ticker] = multi_data[ticker] * cadusd['Close']\n",
    "    \n",
    "    return multi_data\n",
    "\n",
    "start = '2015-01-01'\n",
    "end = '2024-11-22'\n",
    "cutoff = '2019-01-01'\n",
    "close_prices = get_close_prices(start, end, valid_tickers, cutoff)\n"
   ]
  },
  {
   "cell_type": "markdown",
   "metadata": {},
   "source": [
    "### LAST STEP: BUY SHARES AND GENERATE PORTFOLIO"
   ]
  },
  {
   "cell_type": "markdown",
   "metadata": {},
   "source": [
    "##### The following function determines the currency of each stock in our portfolio "
   ]
  },
  {
   "cell_type": "code",
   "execution_count": 46,
   "metadata": {},
   "outputs": [],
   "source": [
    "def get_currency(tickers):\n",
    "    currencies = []\n",
    "\n",
    "    for ticker in tickers:\n",
    "        stock = yf.Ticker(ticker)\n",
    "        info = stock.fast_info\n",
    "        currency = info['currency']\n",
    "\n",
    "        currencies.append({'Ticker': ticker, 'Currency': currency})\n",
    "        \n",
    "    df = pd.DataFrame(currencies)\n",
    "    df.set_index('Ticker', inplace=True)\n",
    "\n",
    "    return df\n",
    "\n",
    "currencies = get_currency(valid_tickers)"
   ]
  },
  {
   "cell_type": "markdown",
   "metadata": {},
   "source": [
    "##### The following function buys our stocks based on the determined weightings "
   ]
  },
  {
   "cell_type": "code",
   "execution_count": 47,
   "metadata": {},
   "outputs": [],
   "source": [
    "def buy_shares(weightings_df, prices_df, currencies_df):\n",
    "\n",
    "    cash = 1000000\n",
    "    flat_fee = 3.95\n",
    "    fee_per_share = 0.001\n",
    "\n",
    "    weightings_df['Close Price'] = prices_df.reindex(weightings_df.index)\n",
    "\n",
    "    # 1: Calculate the initial investment of each stock and the amount of shares\n",
    "    weightings_df['Investment Amt'] = cash * (weightings_df['Weight'] / 100)\n",
    "    weightings_df['Shares'] = weightings_df['Investment Amt'] / weightings_df['Close Price']\n",
    "\n",
    "    # 2: Calculate the fees based on what kind of fee structure is cheaper\n",
    "    weightings_df['fees'] = np.minimum(weightings_df['Shares'] * fee_per_share, flat_fee)\n",
    "\n",
    "    # 3: Calculate total investment with fees added\n",
    "    weightings_df['Investment with fees'] = weightings_df['Shares'] * weightings_df['Close Price'] + weightings_df['fees']\n",
    "    total_with_fees = weightings_df['Investment with fees'].sum()\n",
    "\n",
    "    # 4: Adjust investment to keep the total under the budget\n",
    "    adjustment_factor = cash / total_with_fees\n",
    "    weightings_df['Adjusted Investment Amt'] = weightings_df['Investment Amt'] * adjustment_factor\n",
    "    weightings_df['Adjusted Shares'] = weightings_df['Adjusted Investment Amt'] / weightings_df['Close Price']\n",
    "\n",
    "    # 5: Recalculate fees\n",
    "    weightings_df['Adjusted fees'] = np.minimum(weightings_df['Adjusted Shares'] * fee_per_share, flat_fee)\n",
    "\n",
    "    # 6: Final investment for each stock\n",
    "    weightings_df['Final Investment'] = weightings_df['Adjusted Shares'] * weightings_df['Close Price'] + weightings_df['Adjusted fees']\n",
    "\n",
    "    # Create Final Portfolio\n",
    "    Portfolio_Final = pd.DataFrame()\n",
    "    Portfolio_Final['Ticker'] = weightings_df.index\n",
    "    Portfolio_Final.index = Portfolio_Final['Ticker']\n",
    "    Portfolio_Final['Price'] = weightings_df['Close Price']\n",
    "    Portfolio_Final['Currency'] = currencies_df.reindex(Portfolio_Final.index)['Currency'] # NEED TO FIGURE OUT A WAY TO GET ACCURATE CURRENCY DATA\n",
    "    Portfolio_Final['Shares'] = weightings_df['Adjusted Shares']\n",
    "    Portfolio_Final['Value'] = weightings_df['Adjusted Investment Amt']\n",
    "    Portfolio_Final['Weight'] = weightings_df['Weight']\n",
    "\n",
    "    Portfolio_Final.index = range(1, len(Portfolio_Final) + 1)\n",
    "\n",
    "    return Portfolio_Final\n",
    "\n",
    "weightings_df = pd.DataFrame()\n",
    "weightings_df.index = valid_tickers\n",
    "weights = [1.4999, 4.45, 1.34, 4.26, 4.23, 1.54, 1.45, 2.70, 1.85, 3.54, 4.43, 3.19, 1.39, 2.51, 3.72, 3.44, 4.43, 1.34, 3.98, 1.37, 4.14, 3.80, 1.38, 4.17, 1.61, 2.51, 2.39, 1.34, 2.27, 1.34, 1.34, 1.65, 4.21, 3.63, 4.46, 3.10]\n",
    "weightings_df['Weight'] = weights\n",
    "Portfolio_Final = buy_shares(weightings_df, close_prices.iloc[-1], currencies)"
   ]
  },
  {
   "cell_type": "markdown",
   "metadata": {},
   "source": [
    "### TEST"
   ]
  },
  {
   "cell_type": "code",
   "execution_count": 48,
   "metadata": {},
   "outputs": [
    {
     "name": "stdout",
     "output_type": "stream",
     "text": [
      "999989.1663796143 99.99989999999997\n"
     ]
    }
   ],
   "source": [
    "#tests\n",
    "total = Portfolio_Final['Value'].sum()\n",
    "total_weight = Portfolio_Final['Weight'].sum()\n",
    "print(total, total_weight)"
   ]
  },
  {
   "cell_type": "markdown",
   "metadata": {},
   "source": [
    "## Contribution Declaration\n",
    "\n",
    "The following team members made a meaningful contribution to this assignment:\n",
    "\n",
    "Gateek, Jason, Patrick."
   ]
  }
 ],
 "metadata": {
  "kernelspec": {
   "display_name": "venv",
   "language": "python",
   "name": "python3"
  },
  "language_info": {
   "codemirror_mode": {
    "name": "ipython",
    "version": 3
   },
   "file_extension": ".py",
   "mimetype": "text/x-python",
   "name": "python",
   "nbconvert_exporter": "python",
   "pygments_lexer": "ipython3",
   "version": "3.9.19"
  }
 },
 "nbformat": 4,
 "nbformat_minor": 2
}
