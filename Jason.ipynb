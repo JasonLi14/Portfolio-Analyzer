{
 "cells": [
  {
   "cell_type": "markdown",
   "metadata": {},
   "source": [
    "# Finding Weightings\n",
    "In this section, we will try to find the optimal weightings with the stocks that have been chosen. We will be implementing ideas from Modern Portfolio Theory by using ideas from Ivanyuk and Berzin (2020). In the next section, we will go over the theory behind this model. Then, we will implement our ideas to create a portfolio that meets our needs."
   ]
  },
  {
   "cell_type": "code",
   "execution_count": 64,
   "metadata": {},
   "outputs": [],
   "source": [
    "# MOVE THIS TO THE TOP LATER\n",
    "# LIBRARIES NEEDED\n",
    "import yfinance as yf\n",
    "import pandas as pd\n",
    "import numpy as np\n",
    "import matplotlib.pyplot as plt\n",
    "from pypfopt import EfficientFrontier\n",
    "from pypfopt import risk_models\n",
    "from pypfopt import expected_returns, base_optimizer\n",
    "from typing import Tuple, List\n",
    "\n",
    "# MODULES\n",
    "import jason\n",
    "import patrick\n",
    "import markowitz"
   ]
  },
  {
   "cell_type": "code",
   "execution_count": 65,
   "metadata": {},
   "outputs": [
    {
     "name": "stderr",
     "output_type": "stream",
     "text": [
      "$AGN: possibly delisted; no price data found  (period=5d) (Yahoo error = \"No data found, symbol may be delisted\")\n",
      "$CELG: possibly delisted; no price data found  (period=5d) (Yahoo error = \"No data found, symbol may be delisted\")\n",
      "$MON: possibly delisted; no price data found  (period=5d) (Yahoo error = \"No data found, symbol may be delisted\")\n",
      "$RTN: possibly delisted; no price data found  (period=5d) (Yahoo error = \"No data found, symbol may be delisted\")\n",
      "[*********************100%***********************]  4 of 4 completed\n"
     ]
    },
    {
     "data": {
      "text/html": [
       "<div>\n",
       "<style scoped>\n",
       "    .dataframe tbody tr th:only-of-type {\n",
       "        vertical-align: middle;\n",
       "    }\n",
       "\n",
       "    .dataframe tbody tr th {\n",
       "        vertical-align: top;\n",
       "    }\n",
       "\n",
       "    .dataframe thead th {\n",
       "        text-align: right;\n",
       "    }\n",
       "</style>\n",
       "<table border=\"1\" class=\"dataframe\">\n",
       "  <thead>\n",
       "    <tr style=\"text-align: right;\">\n",
       "      <th>Ticker</th>\n",
       "      <th>ABT</th>\n",
       "      <th>ACN</th>\n",
       "      <th>AIG</th>\n",
       "    </tr>\n",
       "    <tr>\n",
       "      <th>Date</th>\n",
       "      <th></th>\n",
       "      <th></th>\n",
       "      <th></th>\n",
       "    </tr>\n",
       "  </thead>\n",
       "  <tbody>\n",
       "    <tr>\n",
       "      <th>2012-11-09</th>\n",
       "      <td>31.110231</td>\n",
       "      <td>65.809998</td>\n",
       "      <td>32.169998</td>\n",
       "    </tr>\n",
       "    <tr>\n",
       "      <th>2012-11-12</th>\n",
       "      <td>31.124626</td>\n",
       "      <td>66.639999</td>\n",
       "      <td>31.980000</td>\n",
       "    </tr>\n",
       "    <tr>\n",
       "      <th>2012-11-13</th>\n",
       "      <td>31.033464</td>\n",
       "      <td>66.279999</td>\n",
       "      <td>31.350000</td>\n",
       "    </tr>\n",
       "    <tr>\n",
       "      <th>2012-11-14</th>\n",
       "      <td>30.582453</td>\n",
       "      <td>65.050003</td>\n",
       "      <td>30.680000</td>\n",
       "    </tr>\n",
       "    <tr>\n",
       "      <th>2012-11-15</th>\n",
       "      <td>30.323360</td>\n",
       "      <td>64.589996</td>\n",
       "      <td>31.240000</td>\n",
       "    </tr>\n",
       "  </tbody>\n",
       "</table>\n",
       "</div>"
      ],
      "text/plain": [
       "Ticker            ABT        ACN        AIG\n",
       "Date                                       \n",
       "2012-11-09  31.110231  65.809998  32.169998\n",
       "2012-11-12  31.124626  66.639999  31.980000\n",
       "2012-11-13  31.033464  66.279999  31.350000\n",
       "2012-11-14  30.582453  65.050003  30.680000\n",
       "2012-11-15  30.323360  64.589996  31.240000"
      ]
     },
     "metadata": {},
     "output_type": "display_data"
    }
   ],
   "source": [
    "# THIS WILL PROBABLY BE REMOVED\n",
    "# This code block is to get stocks data\n",
    "start_date = \"2012-11-09\"\n",
    "end_date = \"2024-11-09\"\n",
    "valid_stocks = jason.valid_stocks(\"Tickers_Example.csv\")\n",
    "close_prices = markowitz.getClosePrices(start_date, end_date, valid_stocks[:4], start_date)\n",
    "display(close_prices.head())"
   ]
  },
  {
   "cell_type": "markdown",
   "metadata": {},
   "source": [
    "## Explanation\n",
    "The main assumption behind the Markowitz Model is that investors are willing to accept more risk if they get more returns. In other words, the best portfolio is the one that provides the most returns for the same amount of risk. \n",
    "\n",
    "Firstly, we will plot out a portfolio that assigns random weightings to random stocks. We plot the returns on a scatter graph.\n",
    "\n",
    "Note that the following code is only an example and is not coded to be dynamic. We include a dynamic implementation in the section after."
   ]
  },
  {
   "cell_type": "markdown",
   "metadata": {},
   "source": [
    "The following functions will help simulate the randomly-weighted portfolio. The first function is to generate a list of weightings that add up to one. The second function will return a dataframe with those weightings applied. The third function gets the risk and returns of these random portfolios. The fourth function will plot it out."
   ]
  },
  {
   "cell_type": "code",
   "execution_count": 66,
   "metadata": {},
   "outputs": [
    {
     "name": "stdout",
     "output_type": "stream",
     "text": [
      "Test random weightings: [0.33854262105454225, 0.3096208864953372, 0.35183649245012044]\n"
     ]
    },
    {
     "data": {
      "text/html": [
       "<div>\n",
       "<style scoped>\n",
       "    .dataframe tbody tr th:only-of-type {\n",
       "        vertical-align: middle;\n",
       "    }\n",
       "\n",
       "    .dataframe tbody tr th {\n",
       "        vertical-align: top;\n",
       "    }\n",
       "\n",
       "    .dataframe thead th {\n",
       "        text-align: right;\n",
       "    }\n",
       "</style>\n",
       "<table border=\"1\" class=\"dataframe\">\n",
       "  <thead>\n",
       "    <tr style=\"text-align: right;\">\n",
       "      <th>Ticker</th>\n",
       "      <th>ABT</th>\n",
       "      <th>ACN</th>\n",
       "      <th>AIG</th>\n",
       "    </tr>\n",
       "    <tr>\n",
       "      <th>Date</th>\n",
       "      <th></th>\n",
       "      <th></th>\n",
       "      <th></th>\n",
       "    </tr>\n",
       "  </thead>\n",
       "  <tbody>\n",
       "    <tr>\n",
       "      <th>2012-11-09</th>\n",
       "      <td>22028.788108</td>\n",
       "      <td>803373.254345</td>\n",
       "      <td>174597.957547</td>\n",
       "    </tr>\n",
       "    <tr>\n",
       "      <th>2012-11-12</th>\n",
       "      <td>22038.980868</td>\n",
       "      <td>813505.472805</td>\n",
       "      <td>173566.767804</td>\n",
       "    </tr>\n",
       "    <tr>\n",
       "      <th>2012-11-13</th>\n",
       "      <td>21974.430323</td>\n",
       "      <td>809110.777886</td>\n",
       "      <td>170147.539548</td>\n",
       "    </tr>\n",
       "    <tr>\n",
       "      <th>2012-11-14</th>\n",
       "      <td>21655.074285</td>\n",
       "      <td>794095.647858</td>\n",
       "      <td>166511.212177</td>\n",
       "    </tr>\n",
       "    <tr>\n",
       "      <th>2012-11-15</th>\n",
       "      <td>21471.614060</td>\n",
       "      <td>788480.131912</td>\n",
       "      <td>169550.527332</td>\n",
       "    </tr>\n",
       "  </tbody>\n",
       "</table>\n",
       "</div>"
      ],
      "text/plain": [
       "Ticker               ABT            ACN            AIG\n",
       "Date                                                  \n",
       "2012-11-09  22028.788108  803373.254345  174597.957547\n",
       "2012-11-12  22038.980868  813505.472805  173566.767804\n",
       "2012-11-13  21974.430323  809110.777886  170147.539548\n",
       "2012-11-14  21655.074285  794095.647858  166511.212177\n",
       "2012-11-15  21471.614060  788480.131912  169550.527332"
      ]
     },
     "metadata": {},
     "output_type": "display_data"
    }
   ],
   "source": [
    "def getRandomWeightings(length: int, min_weight: float = 0) -> List[float]:\n",
    "    # Returns a list of random weightings\n",
    "    # Requires that the min_weight * len <= 1\n",
    "    weightings_lst = np.random.random(size=length)  # Find random weightings\n",
    "    # Make sure weightings_lst sums up to weight remainder\n",
    "    weightings_lst /= np.sum(weightings_lst)\n",
    "    weightings_lst *= 1 - min_weight\n",
    "    weightings_lst += min_weight\n",
    "    return weightings_lst.tolist()\n",
    "# Example:\n",
    "print(\"Test random weightings:\", getRandomWeightings(len(close_prices.columns), 0))\n",
    "\n",
    "\n",
    "def applyWeightings(df: pd.DataFrame, weightings: list, investment: int) -> pd.DataFrame:\n",
    "    # Returns the dataframe adjusted for all the weightings\n",
    "    # Requires that df has the same number of rows as the length of weightings\n",
    "    i = 0\n",
    "    for column in df.columns.values:\n",
    "        # find shares\n",
    "        shares = investment / df[column].iloc[0]\n",
    "        df[column] *= shares * weightings[i]\n",
    "        i = i + 1\n",
    "    return df\n",
    "# Example\n",
    "display(applyWeightings(close_prices, getRandomWeightings(len(close_prices.columns)), 1000000).head())\n",
    "\n",
    "\n",
    "def simulateRandom(tests: int, stock_data: pd.DataFrame) -> Tuple[list, list, float, float]:\n",
    "    # Simulates tests amount of tests with random weightings\n",
    "    stocks_amount = len(stock_data.columns)\n",
    "    results = [[], [], []]\n",
    "    min_std = 1000  # We want to find the minimum and maximum standard deviations later\n",
    "    max_std = -1000\n",
    "    weighting_record = []\n",
    "    for test in range(tests):  # simulate a set amount of tests\n",
    "        weightings = getRandomWeightings(stocks_amount, 0.03)\n",
    "        weighted_df = applyWeightings(stock_data, weightings, 1000000)  # Find df with weightings\n",
    "        avg_return, std = markowitz.getPortfolioResults(weighted_df)  # Find metrics for performance\n",
    "        results[0].append(avg_return)\n",
    "        results[1].append(std)\n",
    "        # Annualize Sharpe Ratio  as it is commonly meausred annualy, and \n",
    "        # we have daily data. The standard deviation does not increase \n",
    "        # at the same rate as the returns (instead, if the returns increase \n",
    "        # by x times, then the standard deviation icnreases by sqrt(x) times).\n",
    "        results[2].append(avg_return / std * (252 ** 0.5))  \n",
    "        min_std = min(std, min_std)\n",
    "        max_std = max(std, max_std)\n",
    "        weighting_record.append(weightings)\n",
    "    return results, weighting_record, min_std, max_std\n",
    "\n",
    "\n",
    "def plotSimulation(results: list):\n",
    "    x = results[1]  # Get the risk/standard deviation\n",
    "    y = results[0]  # Get the return\n",
    "    colors = results[2]  # Use Sharpe Ratio to determine color\n",
    "    plt.scatter(x, y, c=colors, cmap='summer')\n",
    "    plt.title(\"Graph of Various Weightings with the Portfolio\")\n",
    "    plt.xlabel(\"Standard Deviation\")\n",
    "    plt.ylabel(\"Average Daily Returns (%)\")\n",
    "    plt.colorbar(label=\"Sharpe Ratio\")\n"
   ]
  },
  {
   "cell_type": "markdown",
   "metadata": {},
   "source": [
    "Now, we will run some tests and see the results."
   ]
  },
  {
   "cell_type": "code",
   "execution_count": 67,
   "metadata": {},
   "outputs": [
    {
     "data": {
      "image/png": "[encoded data removed]",
      "text/plain": [
       "<Figure size 640x480 with 2 Axes>"
      ]
     },
     "metadata": {},
     "output_type": "display_data"
    }
   ],
   "source": [
    "simulation_results, simulation_weights, min_risk, max_risk = simulateRandom(500, close_prices)\n",
    "plotSimulation(simulation_results)"
   ]
  },
  {
   "cell_type": "markdown",
   "metadata": {},
   "source": [
    "If all goes well, the random tests should be bounded by a discernable line. All of the portfolios on this line represent the most efficient portfolio; in other words, they represent the portfolio with the highest return for roughly the same amount of risk. The portfolio we choose should line up on that line. We can then find the weightings by looping through our results list and finding the portfolio that matches our needs. \n",
    "\n",
    "However, this process is slow and unexact. Thankfully, the line, also known as the efficient frontier, that bounds the portfolios has a few special properties. Modern Portfolio Theory argues that its shape is convex, and there has been a lot of mathematical research on optimizing convex problems. We can then use the pyportfolioopt library, which gives us tools to analyze this line."
   ]
  },
  {
   "cell_type": "markdown",
   "metadata": {},
   "source": [
    "# Implementation with the Pyportfolioopt Library\n",
    "To have a bit more speed and accuracy in calculating the optimal portfolio, we will be using the Pyportfolioopt library (https://pyportfolioopt.readthedocs.io/en/latest/). This library implements portfolio optimization techniques, including Markowitz. This model is effective because as we have discovered, the efficient frontier can be modeled as a convex optimization problem. \n",
    "\n",
    "The general outline is that we create an ```EfficientFrontier``` class from the pyportfolioopt library, give it the expected returns of the various securities and their covariance with each other, and we input the risk that we want. Then, it will solve the optimization problem. Since we do want more returns as we are trying to aim for the market beat strategy, we have made the decision to increase our risk tolerance in exchange for more returns. "
   ]
  },
  {
   "cell_type": "markdown",
   "metadata": {},
   "source": [
    "## Determining Expected Returns\n",
    "The first challenge is finding a way to determine expected returns. We could use the average historical prices, but that is under the assumption that future returns will replicate previous returns. We have decided to try out the Capital Asset Pricing Model as it avoids this assumption and may be more accurate. More specifically, CAPM states that the expected return of a security can be estimated with the following formula (https://www.investopedia.com/terms/c/capm.asp#toc-capital-asset-pricing-model-capm-formula):\n",
    "\n",
    "$$R_i = R_f + \\beta(R_m - R_f)$$\n",
    "Where $R_i$ denotes the expected return of the individual security, $R_f$ is the risk-free rate, and $R_m$ is the return of the market. In other words, $R_m - R_f$ is the risk premium of the Market. The idea is that the covariance with the market is a better predictor of returns than the mean historical return.\n",
    "\n",
    "To implement CAPM, we first define the risk-free rate as $(3.31\\% + 4.41\\%)/2 = 3.86\\%$. This is the average of the Canadian 10-year benchmark bond rate (https://www.bankofcanada.ca/rates/interest-rates/lookup-bond-yields/) and the US 10-year bond rate (https://www.bloomberg.com/markets/rates-bonds/government-bonds/us). \n",
    "\n",
    "The following code first gets some market data, and then finds the beta of the securities in the stocks we choose. "
   ]
  },
  {
   "cell_type": "code",
   "execution_count": 68,
   "metadata": {},
   "outputs": [
    {
     "name": "stderr",
     "output_type": "stream",
     "text": [
      "[*********************100%***********************]  1 of 1 completed\n"
     ]
    },
    {
     "data": {
      "text/html": [
       "<div>\n",
       "<style scoped>\n",
       "    .dataframe tbody tr th:only-of-type {\n",
       "        vertical-align: middle;\n",
       "    }\n",
       "\n",
       "    .dataframe tbody tr th {\n",
       "        vertical-align: top;\n",
       "    }\n",
       "\n",
       "    .dataframe thead th {\n",
       "        text-align: right;\n",
       "    }\n",
       "</style>\n",
       "<table border=\"1\" class=\"dataframe\">\n",
       "  <thead>\n",
       "    <tr style=\"text-align: right;\">\n",
       "      <th>Ticker</th>\n",
       "      <th>^GSPC</th>\n",
       "    </tr>\n",
       "    <tr>\n",
       "      <th>Date</th>\n",
       "      <th></th>\n",
       "    </tr>\n",
       "  </thead>\n",
       "  <tbody>\n",
       "    <tr>\n",
       "      <th>2012-11-09</th>\n",
       "      <td>1379.849976</td>\n",
       "    </tr>\n",
       "    <tr>\n",
       "      <th>2012-11-12</th>\n",
       "      <td>1380.030029</td>\n",
       "    </tr>\n",
       "    <tr>\n",
       "      <th>2012-11-13</th>\n",
       "      <td>1374.530029</td>\n",
       "    </tr>\n",
       "    <tr>\n",
       "      <th>2012-11-14</th>\n",
       "      <td>1355.489990</td>\n",
       "    </tr>\n",
       "    <tr>\n",
       "      <th>2012-11-15</th>\n",
       "      <td>1353.329956</td>\n",
       "    </tr>\n",
       "  </tbody>\n",
       "</table>\n",
       "</div>"
      ],
      "text/plain": [
       "Ticker            ^GSPC\n",
       "Date                   \n",
       "2012-11-09  1379.849976\n",
       "2012-11-12  1380.030029\n",
       "2012-11-13  1374.530029\n",
       "2012-11-14  1355.489990\n",
       "2012-11-15  1353.329956"
      ]
     },
     "metadata": {},
     "output_type": "display_data"
    },
    {
     "name": "stderr",
     "output_type": "stream",
     "text": [
      "[*********************100%***********************]  17 of 17 completed\n"
     ]
    },
    {
     "data": {
      "text/plain": [
       "Ticker\n",
       "ABT      0.853635\n",
       "ACN      1.060460\n",
       "AIG      1.168275\n",
       "AMZN     1.168092\n",
       "AXP      1.200895\n",
       "BA       1.326763\n",
       "BAC      1.238142\n",
       "BB.TO    1.116872\n",
       "BIIB     0.949278\n",
       "BK       1.041967\n",
       "BLK      1.261607\n",
       "BMY      0.605332\n",
       "C        1.318134\n",
       "CAT      1.056091\n",
       "CL       0.551660\n",
       "KO       0.594606\n",
       "LLY      0.705659\n",
       "^GSPC    1.000000\n",
       "Name: ^GSPC, dtype: float64"
      ]
     },
     "metadata": {},
     "output_type": "display_data"
    }
   ],
   "source": [
    "# Get market data\n",
    "market_data = markowitz.getClosePrices(start_date, end_date, [\"^GSPC\"], start_date)  # I could not find the ticker for the TSX60\n",
    "# It should be \"TX60.TS\"?\n",
    "display(market_data.head())\n",
    "\n",
    "# -- Now, we find the beta -- #\n",
    "# Get stock data\n",
    "stocks = markowitz.getClosePrices(start_date, end_date, valid_stocks[1:18], start_date)  # Replace WITH EXISTING STOCK DATA\n",
    "beta_df = pd.concat([stocks, market_data], axis=1)\n",
    "beta_df.dropna(axis=0, inplace=True)\n",
    "# Find percent movement\n",
    "beta_df_pct = jason.convertToPct(beta_df)\n",
    "# Find covariance\n",
    "market_cov = beta_df_pct.cov()[\"^GSPC\"]\n",
    "# Find market variance\n",
    "market_var = beta_df_pct[\"^GSPC\"].var()\n",
    "# Find betas = cov/var\n",
    "betas = market_cov / market_var\n",
    "display(betas)"
   ]
  },
  {
   "cell_type": "markdown",
   "metadata": {},
   "source": [
    "Now, we want to find the CAPM for each stock. The following code first finds the market return as an average of market data. We will actually be using an exponentially weighted mean. This method allows more recent data to be weighted more heavily, since it makes sense that more recent data would be related to future data. \n",
    "\n",
    "To calculate exponentially weighted mean, we use the following formula:\n",
    "\n",
    "$$a_t = \\frac{c_t + c_{t-1}(1-\\alpha) + c_{t-2}(1-\\alpha)^2 + ... + c_0(1-\\alpha)^t}{1 + (1-\\alpha) + (1-\\alpha)^2 + ... + (1-\\alpha)^t}$$\n",
    "Where $t$ is the amount of periods, $c_i$ is the percent change at time $= i$, and $\\alpha$ is a factor between $0$ and $1$ that will determine how weighted previous periods are weighted. \n",
    "\n",
    "This is the code, which uses the pandas library."
   ]
  },
  {
   "cell_type": "code",
   "execution_count": 87,
   "metadata": {},
   "outputs": [
    {
     "name": "stdout",
     "output_type": "stream",
     "text": [
      "Market Return (month): 0.024670288286609665\n"
     ]
    }
   ],
   "source": [
    "market_data_pct = jason.convertToPct(market_data)\n",
    "market_data_pct.index = pd.to_datetime(market_data_pct.index)\n",
    "resampled = market_data_pct.resample(\"M\").ffill()\n",
    "market_return = resampled.ewm(alpha=0.8, adjust=True).mean()[\"^GSPC\"].iloc[-1]  # We want the last value\n",
    "print(\"Market Return (month):\", market_return)  # Remember that this is a percent, not a decimal"
   ]
  },
  {
   "cell_type": "markdown",
   "metadata": {},
   "source": [
    "We can now find the expected returns using the CAPM."
   ]
  },
  {
   "cell_type": "code",
   "execution_count": 98,
   "metadata": {},
   "outputs": [
    {
     "data": {
      "text/plain": [
       "Ticker\n",
       "ABT      0.068140\n",
       "ACN      0.006714\n",
       "AIG     -0.025307\n",
       "AMZN    -0.025252\n",
       "AXP     -0.034995\n",
       "BA      -0.072377\n",
       "BAC     -0.046057\n",
       "BB.TO   -0.010040\n",
       "BIIB     0.039734\n",
       "BK       0.012206\n",
       "BLK     -0.053026\n",
       "BMY      0.141885\n",
       "C       -0.069814\n",
       "CAT      0.008012\n",
       "CL       0.157826\n",
       "KO       0.145071\n",
       "LLY      0.112088\n",
       "Name: ^GSPC, dtype: float64"
      ]
     },
     "metadata": {},
     "output_type": "display_data"
    }
   ],
   "source": [
    "risk_free = 3.86\n",
    "returns = risk_free/12 + betas[:-1]  * (market_return - risk_free/12) # The risk free rate is for a year, so we divide by 12\n",
    "display(returns) "
   ]
  },
  {
   "cell_type": "markdown",
   "metadata": {},
   "source": [
    "We now have enough information to use the pyportfolioopt library. The following code file will return the Efficient Frontier object, which we will call multiple times to get various numbers. pyportfolioopt uses a covariance matrix to determine risk, which we will store with the variable cov_matrix."
   ]
  },
  {
   "cell_type": "code",
   "execution_count": 99,
   "metadata": {},
   "outputs": [
    {
     "data": {
      "text/html": [
       "<div>\n",
       "<style scoped>\n",
       "    .dataframe tbody tr th:only-of-type {\n",
       "        vertical-align: middle;\n",
       "    }\n",
       "\n",
       "    .dataframe tbody tr th {\n",
       "        vertical-align: top;\n",
       "    }\n",
       "\n",
       "    .dataframe thead th {\n",
       "        text-align: right;\n",
       "    }\n",
       "</style>\n",
       "<table border=\"1\" class=\"dataframe\">\n",
       "  <thead>\n",
       "    <tr style=\"text-align: right;\">\n",
       "      <th>Ticker</th>\n",
       "      <th>ABT</th>\n",
       "      <th>ACN</th>\n",
       "      <th>AIG</th>\n",
       "      <th>AMZN</th>\n",
       "      <th>AXP</th>\n",
       "    </tr>\n",
       "    <tr>\n",
       "      <th>Ticker</th>\n",
       "      <th></th>\n",
       "      <th></th>\n",
       "      <th></th>\n",
       "      <th></th>\n",
       "      <th></th>\n",
       "    </tr>\n",
       "  </thead>\n",
       "  <tbody>\n",
       "    <tr>\n",
       "      <th>ABT</th>\n",
       "      <td>2.010777</td>\n",
       "      <td>1.089751</td>\n",
       "      <td>0.924264</td>\n",
       "      <td>0.995540</td>\n",
       "      <td>1.026780</td>\n",
       "    </tr>\n",
       "    <tr>\n",
       "      <th>ACN</th>\n",
       "      <td>1.089751</td>\n",
       "      <td>2.218058</td>\n",
       "      <td>1.370991</td>\n",
       "      <td>1.353518</td>\n",
       "      <td>1.400320</td>\n",
       "    </tr>\n",
       "    <tr>\n",
       "      <th>AIG</th>\n",
       "      <td>0.924264</td>\n",
       "      <td>1.370991</td>\n",
       "      <td>3.666404</td>\n",
       "      <td>1.014601</td>\n",
       "      <td>2.322494</td>\n",
       "    </tr>\n",
       "    <tr>\n",
       "      <th>AMZN</th>\n",
       "      <td>0.995540</td>\n",
       "      <td>1.353518</td>\n",
       "      <td>1.014601</td>\n",
       "      <td>4.054850</td>\n",
       "      <td>1.171040</td>\n",
       "    </tr>\n",
       "    <tr>\n",
       "      <th>AXP</th>\n",
       "      <td>1.026780</td>\n",
       "      <td>1.400320</td>\n",
       "      <td>2.322494</td>\n",
       "      <td>1.171040</td>\n",
       "      <td>3.302008</td>\n",
       "    </tr>\n",
       "  </tbody>\n",
       "</table>\n",
       "</div>"
      ],
      "text/plain": [
       "Ticker       ABT       ACN       AIG      AMZN       AXP\n",
       "Ticker                                                  \n",
       "ABT     2.010777  1.089751  0.924264  0.995540  1.026780\n",
       "ACN     1.089751  2.218058  1.370991  1.353518  1.400320\n",
       "AIG     0.924264  1.370991  3.666404  1.014601  2.322494\n",
       "AMZN    0.995540  1.353518  1.014601  4.054850  1.171040\n",
       "AXP     1.026780  1.400320  2.322494  1.171040  3.302008"
      ]
     },
     "metadata": {},
     "output_type": "display_data"
    }
   ],
   "source": [
    "def optimizedEF(returns: pd.Series, risk: pd.DataFrame, min_weight: float = 0, max_weight: float = 0.15):\n",
    "    # This will return the efficient frontier (i.e. most return for different amount of risk)\n",
    "\n",
    "    # Because there's limits, we have to incorporate them\n",
    "    EF = EfficientFrontier(returns, risk, weight_bounds=(min_weight, max_weight))\n",
    "    return EF\n",
    "\n",
    "cov_matrix = jason.convertToPct(stocks).cov()\n",
    "display(cov_matrix.iloc[:5, :5])"
   ]
  },
  {
   "cell_type": "markdown",
   "metadata": {},
   "source": [
    "Then, we can use this to solve for various portfolios. Our hypothesis is that to get a portfolio that beats the market, we have to accept more risk, even more than the optimal Sharpe ratio accounts for. To do so, we can get the risk for the optimal sharpe ratio . Then, we can use a ratio to choose a risk value that best meets our needs, i.e. create a target risk that is higher than the risk to create the optimal sharpe ratio portfolio. The ratio that we are using is gained through our own testing.  "
   ]
  },
  {
   "cell_type": "code",
   "execution_count": 104,
   "metadata": {},
   "outputs": [
    {
     "name": "stdout",
     "output_type": "stream",
     "text": [
      "OrderedDict([('ABT', 0.04706), ('ACN', 0.02941), ('AIG', 0.02941), ('AMZN', 0.02941), ('AXP', 0.02941), ('BA', 0.02941), ('BAC', 0.02941), ('BB.TO', 0.02941), ('BIIB', 0.02941), ('BK', 0.02941), ('BLK', 0.02941), ('BMY', 0.15), ('C', 0.02941), ('CAT', 0.02941), ('CL', 0.15), ('KO', 0.15), ('LLY', 0.15)])\n"
     ]
    }
   ],
   "source": [
    "min_weight = 1 / (2 * len(stocks.columns))  # Find the minimum weight bound\n",
    "\n",
    "# Find sharpe ratio portfolio\n",
    "sharpe_ef = optimizedEF(returns, cov_matrix, min_weight)\n",
    "sharpe_weights = sharpe_ef.max_sharpe(risk_free/100)\n",
    "sharpe_risk = sharpe_ef.portfolio_performance(risk_free_rate=risk_free/100)[1]\n",
    "\n",
    "# Find target risk\n",
    "target_risk = sharpe_risk * 1.1\n",
    "target_ef = optimizedEF(returns, cov_matrix, min_weight)\n",
    "target_weights = target_ef.efficient_risk(target_risk)\n",
    "show_weights = target_ef.clean_weights()\n",
    "target_performance = target_ef.portfolio_performance(risk_free_rate=risk_free/100)\n",
    "\n",
    "# Display results\n",
    "print(show_weights)"
   ]
  },
  {
   "cell_type": "code",
   "execution_count": null,
   "metadata": {},
   "outputs": [],
   "source": []
  },
  {
   "cell_type": "markdown",
   "metadata": {},
   "source": [
    "# References\n",
    "Ivanyuk, V., & Berzin, D. (2020). *An Algorithm for Constructing an Efficient Investment Portfolio*. In Advances in Intelligent \n",
    "\n",
    "&ensp; Systems and Computing (pp. 482–490). Springer International Publishing. https://doi.org/10.1007/978-3-030-63322-6_39\n"
   ]
  },
  {
   "cell_type": "markdown",
   "metadata": {},
   "source": []
  }
 ],
 "metadata": {
  "kernelspec": {
   "display_name": ".venv",
   "language": "python",
   "name": "python3"
  },
  "language_info": {
   "codemirror_mode": {
    "name": "ipython",
    "version": 3
   },
   "file_extension": ".py",
   "mimetype": "text/x-python",
   "name": "python",
   "nbconvert_exporter": "python",
   "pygments_lexer": "ipython3",
   "version": "3.8.10"
  }
 },
 "nbformat": 4,
 "nbformat_minor": 2
}
