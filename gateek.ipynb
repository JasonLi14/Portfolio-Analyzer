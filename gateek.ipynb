{
 "cells": [
  {
   "cell_type": "code",
   "execution_count": 137,
   "metadata": {},
   "outputs": [],
   "source": [
    "from IPython.display import display, Math, Latex\n",
    "\n",
    "import pandas as pd\n",
    "import numpy as np\n",
    "import numpy_financial as npf\n",
    "import yfinance as yf\n",
    "import matplotlib.pyplot as plt\n",
    "import random\n",
    "from datetime import datetime"
   ]
  },
  {
   "cell_type": "code",
   "execution_count": 138,
   "metadata": {},
   "outputs": [
    {
     "name": "stderr",
     "output_type": "stream",
     "text": [
      "$AGN: possibly delisted; no price data found  (period=5d) (Yahoo error = \"No data found, symbol may be delisted\")\n",
      "$CELG: possibly delisted; no price data found  (period=5d) (Yahoo error = \"No data found, symbol may be delisted\")\n",
      "$MON: possibly delisted; no price data found  (period=5d) (Yahoo error = \"No data found, symbol may be delisted\")\n",
      "$RTN: possibly delisted; no price data found  (period=5d) (Yahoo error = \"No data found, symbol may be delisted\")\n"
     ]
    },
    {
     "data": {
      "text/plain": [
       "36"
      ]
     },
     "execution_count": 138,
     "metadata": {},
     "output_type": "execute_result"
    }
   ],
   "source": [
    "def valid_stocks(tickers_file):\n",
    "    tickers_df = pd.read_csv(tickers_file)\n",
    "    tickers_df.columns = (['Tickers'])\n",
    "    tickers_list = tickers_df['Tickers'].tolist()\n",
    "\n",
    "    start = '2023-10-01'\n",
    "    end = '2024-09-30'\n",
    "\n",
    "    valid_tickers = []\n",
    "\n",
    "    for ticker in tickers_list:\n",
    "        # Loads in ticker info from yfinance\n",
    "        stock = yf.Ticker(ticker)\n",
    "        info = stock.fast_info \n",
    "\n",
    "        # filter ticker by currency\n",
    "        try:\n",
    "            currency = info['currency']\n",
    "        except:\n",
    "            continue\n",
    "\n",
    "        if currency != 'USD' and currency != 'CAD':\n",
    "            continue\n",
    "\n",
    "        #filter ticker by average monthly volume\n",
    "        try:\n",
    "            hist = stock.history(start=start, end=end, interval='1d')\n",
    "        except:\n",
    "            continue\n",
    "        monthly_volume = pd.DataFrame()\n",
    "        monthly_volume['volume'] = hist['Volume'].resample('ME').sum()\n",
    "        monthly_volume['count'] = hist['Volume'].resample('ME').count()\n",
    "        monthly_volume['avg monthly volume'] = monthly_volume['volume'] / monthly_volume['count']\n",
    "        invalid_trading_days = monthly_volume[monthly_volume['count'] < 18]\n",
    "        invalid_monthly_vol = monthly_volume[monthly_volume['avg monthly volume'] < 100000]\n",
    "\n",
    "        if len(invalid_monthly_vol) > 0 or len(invalid_trading_days) > 0:\n",
    "            continue\n",
    "\n",
    "\n",
    "        valid_tickers.append(ticker)\n",
    "\n",
    "    return len(valid_tickers)\n",
    "\n",
    "valid_stocks('Tickers_Example.csv')"
   ]
  }
 ],
 "metadata": {
  "kernelspec": {
   "display_name": "venv",
   "language": "python",
   "name": "python3"
  },
  "language_info": {
   "codemirror_mode": {
    "name": "ipython",
    "version": 3
   },
   "file_extension": ".py",
   "mimetype": "text/x-python",
   "name": "python",
   "nbconvert_exporter": "python",
   "pygments_lexer": "ipython3",
   "version": "3.9.19"
  }
 },
 "nbformat": 4,
 "nbformat_minor": 2
}
