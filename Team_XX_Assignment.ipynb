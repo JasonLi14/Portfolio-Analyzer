{
 "cells": [
  {
   "cell_type": "code",
   "execution_count": 3,
   "metadata": {},
   "outputs": [],
   "source": [
    "#These are the libraries you can use.  You may add any libraries directy related to threading if this is a direction\n",
    "#you wish to go (this is not from the course, so it's entirely on you if you wish to use threading).  Any\n",
    "#further libraries you wish to use you must email me, james@uwaterloo.ca, for permission.\n",
    "\n",
    "from IPython.display import display, Math, Latex\n",
    "\n",
    "import pandas as pd\n",
    "import numpy as np\n",
    "import numpy_financial as npf\n",
    "import yfinance as yf\n",
    "import matplotlib.pyplot as plt\n",
    "import random\n",
    "from datetime import datetime"
   ]
  },
  {
   "cell_type": "markdown",
   "metadata": {},
   "source": [
    "## Group Assignment\n",
    "### Team Number: XX\n",
    "### Team Member Names:\n",
    "### Team Strategy Chosen: Market Beat"
   ]
  },
  {
   "cell_type": "markdown",
   "metadata": {},
   "source": [
    "Disclose any use of AI for this assignment below (detail where and how you used it).  Please see the course outline for acceptable uses of AI.\n"
   ]
  },
  {
   "cell_type": "markdown",
   "metadata": {},
   "source": [
    "### STEP 1: FILTER STOCKS FOR VALID TICKERS BASED ON SET REQUIREMENTS"
   ]
  },
  {
   "cell_type": "code",
   "execution_count": null,
   "metadata": {},
   "outputs": [
    {
     "name": "stderr",
     "output_type": "stream",
     "text": [
      "$AGN: possibly delisted; no price data found  (period=5d) (Yahoo error = \"No data found, symbol may be delisted\")\n",
      "$CELG: possibly delisted; no price data found  (period=5d) (Yahoo error = \"No data found, symbol may be delisted\")\n",
      "$MON: possibly delisted; no price data found  (period=5d) (Yahoo error = \"No data found, symbol may be delisted\")\n",
      "$RTN: possibly delisted; no price data found  (period=5d) (Yahoo error = \"No data found, symbol may be delisted\")\n"
     ]
    }
   ],
   "source": [
    "# valid_stocks(tickers_file) reads in a given tickers file and produces a list of tickers\n",
    "#                            that are valid according to restrictions such as currency and \n",
    "#                            average monthly volume.\n",
    "# tickers_file: csv file with tickers \n",
    "def valid_stocks(tickers_file):\n",
    "    # Read CSV and get tickers\n",
    "    tickers_df = pd.read_csv(tickers_file)\n",
    "    tickers_df.columns = (['Tickers'])\n",
    "    tickers_list = tickers_df['Tickers'].tolist()\n",
    "\n",
    "    # Start and end dates\n",
    "    start = '2023-10-01'\n",
    "    end = '2024-09-30'\n",
    "\n",
    "    valid_tickers = []\n",
    "\n",
    "    for ticker in tickers_list:\n",
    "        # Loads in ticker info from yfinance\n",
    "        stock = yf.Ticker(ticker)\n",
    "        info = stock.fast_info \n",
    "\n",
    "        # filter ticker by currency\n",
    "        try:\n",
    "            currency = info['currency']\n",
    "        except:\n",
    "            continue\n",
    "\n",
    "        if currency != 'USD' and currency != 'CAD':\n",
    "            continue\n",
    "\n",
    "        #filter ticker by average monthly volume\n",
    "        try:\n",
    "            hist = stock.history(start=start, end=end, interval='1d')\n",
    "        except:\n",
    "            continue\n",
    "        monthly_volume = pd.DataFrame()\n",
    "        monthly_volume['volume'] = hist['Volume'].resample('ME').sum()\n",
    "        monthly_volume['count'] = hist['Volume'].resample('ME').count()\n",
    "        monthly_volume['avg monthly volume'] = monthly_volume['volume'] / monthly_volume['count']\n",
    "        invalid_trading_days = monthly_volume[monthly_volume['count'] < 18]\n",
    "        invalid_monthly_vol = monthly_volume[monthly_volume['avg monthly volume'] < 100000]\n",
    "\n",
    "        if len(invalid_monthly_vol) > 0 or len(invalid_trading_days) > 0:\n",
    "            continue\n",
    "\n",
    "        valid_tickers.append(ticker)\n",
    "\n",
    "    return valid_tickers\n",
    "\n",
    "valid_tickers = valid_stocks('Tickers_Example.csv')"
   ]
  },
  {
   "cell_type": "markdown",
   "metadata": {},
   "source": [
    "### STEP 2: GET CLOSE PRICES FOR ALL VALID STOCKS"
   ]
  },
  {
   "cell_type": "code",
   "execution_count": 7,
   "metadata": {},
   "outputs": [
    {
     "name": "stderr",
     "output_type": "stream",
     "text": [
      "[*********************100%***********************]  1 of 1 completed\n",
      "[*********************100%***********************]  1 of 1 completed\n",
      "[*********************100%***********************]  1 of 1 completed\n",
      "[*********************100%***********************]  1 of 1 completed\n",
      "[*********************100%***********************]  1 of 1 completed\n",
      "[*********************100%***********************]  1 of 1 completed\n",
      "[*********************100%***********************]  1 of 1 completed\n",
      "[*********************100%***********************]  1 of 1 completed\n",
      "[*********************100%***********************]  1 of 1 completed\n",
      "[*********************100%***********************]  1 of 1 completed\n",
      "[*********************100%***********************]  1 of 1 completed\n",
      "[*********************100%***********************]  1 of 1 completed\n",
      "[*********************100%***********************]  1 of 1 completed\n",
      "[*********************100%***********************]  1 of 1 completed\n",
      "[*********************100%***********************]  1 of 1 completed\n",
      "[*********************100%***********************]  1 of 1 completed\n",
      "[*********************100%***********************]  1 of 1 completed\n",
      "[*********************100%***********************]  1 of 1 completed\n",
      "[*********************100%***********************]  1 of 1 completed\n",
      "[*********************100%***********************]  1 of 1 completed\n",
      "[*********************100%***********************]  1 of 1 completed\n",
      "[*********************100%***********************]  1 of 1 completed\n",
      "[*********************100%***********************]  1 of 1 completed\n",
      "[*********************100%***********************]  1 of 1 completed\n",
      "[*********************100%***********************]  1 of 1 completed\n",
      "[*********************100%***********************]  1 of 1 completed\n",
      "[*********************100%***********************]  1 of 1 completed\n",
      "[*********************100%***********************]  1 of 1 completed\n",
      "[*********************100%***********************]  1 of 1 completed\n",
      "[*********************100%***********************]  1 of 1 completed\n",
      "[*********************100%***********************]  1 of 1 completed\n",
      "[*********************100%***********************]  1 of 1 completed\n",
      "[*********************100%***********************]  1 of 1 completed\n",
      "[*********************100%***********************]  1 of 1 completed\n",
      "[*********************100%***********************]  1 of 1 completed\n",
      "[*********************100%***********************]  1 of 1 completed\n",
      "[*********************100%***********************]  1 of 1 completed\n"
     ]
    }
   ],
   "source": [
    "#get_close_prices(start, end, tickers, cutoff) retrieves all close prices for stocks in tickers from a start date\n",
    "#                                              to an end date. It also takes in a cutoff that excludes all stocks\n",
    "#                                              that do not have close price data before this cutoff date. Function \n",
    "#                                              will return all close prices for the valid stocks in CAD starting from the \n",
    "#                                              date at which the youngest valid stock began tracking close prices.\n",
    "# Example: get_close_prices('2020-01-01', '2024-01-01', ['AAPL', 'NVDA'], '2022-01-01')\n",
    "# Restrictions:\n",
    "#       * start < cutoff < end\n",
    "def get_close_prices(start, end, tickers, cutoff):\n",
    "\n",
    "    multi_data = pd.DataFrame()\n",
    "    df = []\n",
    "    appended_tickers = []\n",
    "\n",
    "    # loop through tickers \n",
    "    for ticker in tickers:\n",
    "        # get all data and put into a series\n",
    "        data = yf.download(ticker, start=start, end=end, interval='1d')\n",
    "        close = data['Close']\n",
    "        close = close.rename(ticker)\n",
    "\n",
    "        # if the first close price is less than cutoff\n",
    "        if close.index.min() < pd.Timestamp(cutoff):\n",
    "            # add stock close prices to df\n",
    "            df.append(close)\n",
    "            appended_tickers.append(ticker)\n",
    "\n",
    "    # create df with all the data\n",
    "    multi_data = pd.concat(df, axis=1)\n",
    "    #drop all values so that there are valid data points for each date in the index\n",
    "    multi_data.dropna(subset=appended_tickers, inplace=True)\n",
    "\n",
    "    # Get CAD->USD exchange rate\n",
    "    cadusd = yf.download('CAD=x', start='2024-11-08', end=end, interval='1d')\n",
    "    # Get Close price from most recent trading day\n",
    "    exchange_rate = cadusd.iloc[-1, 3]\n",
    "\n",
    "    # convert everything to CAD\n",
    "    for ticker in appended_tickers:\n",
    "        stock = yf.Ticker(ticker)\n",
    "        info = stock.fast_info\n",
    "\n",
    "        if info['currency'] == 'USD':\n",
    "            multi_data[ticker] = multi_data[ticker] * exchange_rate\n",
    "    \n",
    "    return multi_data\n",
    "\n",
    "start = '1980-11-09'\n",
    "end = '2024-11-23'\n",
    "cutoff = '1989-01-01'\n",
    "\n",
    "close_prices = get_close_prices(start, end, valid_tickers, cutoff)"
   ]
  },
  {
   "cell_type": "markdown",
   "metadata": {},
   "source": [
    "## Contribution Declaration\n",
    "\n",
    "The following team members made a meaningful contribution to this assignment:\n",
    "\n",
    "Insert Names Here."
   ]
  }
 ],
 "metadata": {
  "kernelspec": {
   "display_name": "venv",
   "language": "python",
   "name": "python3"
  },
  "language_info": {
   "codemirror_mode": {
    "name": "ipython",
    "version": 3
   },
   "file_extension": ".py",
   "mimetype": "text/x-python",
   "name": "python",
   "nbconvert_exporter": "python",
   "pygments_lexer": "ipython3",
   "version": "3.9.19"
  }
 },
 "nbformat": 4,
 "nbformat_minor": 2
}
